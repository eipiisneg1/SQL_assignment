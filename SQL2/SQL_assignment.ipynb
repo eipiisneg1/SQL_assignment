{
 "cells": [
  {
   "cell_type": "markdown",
   "source": [
    "Springboard Grader:\n",
    "\n",
    "Not sure that it applies here, but the phpmyadmin site was not available for large amounts of time during my completing this.\n"
   ],
   "metadata": {
    "collapsed": false,
    "pycharm": {
     "name": "#%% md\n"
    }
   }
  },
  {
   "cell_type": "code",
   "execution_count": 9,
   "metadata": {
    "collapsed": true,
    "pycharm": {
     "name": "#%%\n"
    }
   },
   "outputs": [],
   "source": [
    "import sqlite3\n",
    "import pandas as pd\n",
    "\n",
    "db = sqlite3.connect('/Users/jshensley/Desktop/springboard/DS_Method_and_Capstones/SQL2/sqlite_db_pythonsqlite.db')\n",
    "cursor = db.cursor()"
   ]
  },
  {
   "cell_type": "code",
   "execution_count": 10,
   "outputs": [],
   "source": [
    "facilities = ['facid', 'name', 'membercost', 'guestcost', 'initialoutlay', 'monthlymaintencance']"
   ],
   "metadata": {
    "collapsed": false,
    "pycharm": {
     "name": "#%%\n"
    }
   }
  },
  {
   "cell_type": "code",
   "execution_count": 11,
   "outputs": [
    {
     "data": {
      "text/plain": "   facid             name  membercost  guestcost  initialoutlay  \\\n0      0   Tennis Court 1         5.0       25.0          10000   \n1      1   Tennis Court 2         5.0       25.0           8000   \n2      2  Badminton Court         0.0       15.5           4000   \n3      3     Table Tennis         0.0        5.0            320   \n4      4   Massage Room 1         9.9       80.0           4000   \n5      5   Massage Room 2         9.9       80.0           4000   \n6      6     Squash Court         3.5       17.5           5000   \n7      7    Snooker Table         0.0        5.0            450   \n8      8       Pool Table         0.0        5.0            400   \n\n   monthlymaintencance  \n0                  200  \n1                  200  \n2                   50  \n3                   10  \n4                 3000  \n5                 3000  \n6                   80  \n7                   15  \n8                   15  ",
      "text/html": "<div>\n<style scoped>\n    .dataframe tbody tr th:only-of-type {\n        vertical-align: middle;\n    }\n\n    .dataframe tbody tr th {\n        vertical-align: top;\n    }\n\n    .dataframe thead th {\n        text-align: right;\n    }\n</style>\n<table border=\"1\" class=\"dataframe\">\n  <thead>\n    <tr style=\"text-align: right;\">\n      <th></th>\n      <th>facid</th>\n      <th>name</th>\n      <th>membercost</th>\n      <th>guestcost</th>\n      <th>initialoutlay</th>\n      <th>monthlymaintencance</th>\n    </tr>\n  </thead>\n  <tbody>\n    <tr>\n      <th>0</th>\n      <td>0</td>\n      <td>Tennis Court 1</td>\n      <td>5.0</td>\n      <td>25.0</td>\n      <td>10000</td>\n      <td>200</td>\n    </tr>\n    <tr>\n      <th>1</th>\n      <td>1</td>\n      <td>Tennis Court 2</td>\n      <td>5.0</td>\n      <td>25.0</td>\n      <td>8000</td>\n      <td>200</td>\n    </tr>\n    <tr>\n      <th>2</th>\n      <td>2</td>\n      <td>Badminton Court</td>\n      <td>0.0</td>\n      <td>15.5</td>\n      <td>4000</td>\n      <td>50</td>\n    </tr>\n    <tr>\n      <th>3</th>\n      <td>3</td>\n      <td>Table Tennis</td>\n      <td>0.0</td>\n      <td>5.0</td>\n      <td>320</td>\n      <td>10</td>\n    </tr>\n    <tr>\n      <th>4</th>\n      <td>4</td>\n      <td>Massage Room 1</td>\n      <td>9.9</td>\n      <td>80.0</td>\n      <td>4000</td>\n      <td>3000</td>\n    </tr>\n    <tr>\n      <th>5</th>\n      <td>5</td>\n      <td>Massage Room 2</td>\n      <td>9.9</td>\n      <td>80.0</td>\n      <td>4000</td>\n      <td>3000</td>\n    </tr>\n    <tr>\n      <th>6</th>\n      <td>6</td>\n      <td>Squash Court</td>\n      <td>3.5</td>\n      <td>17.5</td>\n      <td>5000</td>\n      <td>80</td>\n    </tr>\n    <tr>\n      <th>7</th>\n      <td>7</td>\n      <td>Snooker Table</td>\n      <td>0.0</td>\n      <td>5.0</td>\n      <td>450</td>\n      <td>15</td>\n    </tr>\n    <tr>\n      <th>8</th>\n      <td>8</td>\n      <td>Pool Table</td>\n      <td>0.0</td>\n      <td>5.0</td>\n      <td>400</td>\n      <td>15</td>\n    </tr>\n  </tbody>\n</table>\n</div>"
     },
     "execution_count": 11,
     "metadata": {},
     "output_type": "execute_result"
    }
   ],
   "source": [
    "# test the connection and customized output\n",
    "a = cursor.execute(\"SELECT * FROM Facilities\")\n",
    "adf = pd.DataFrame(a, columns=facilities)\n",
    "adf"
   ],
   "metadata": {
    "collapsed": false,
    "pycharm": {
     "name": "#%%\n"
    }
   }
  },
  {
   "cell_type": "markdown",
   "source": [
    "Q10: Produce a list of facilities with a total revenue less than 1000.\n",
    "        The output of facility name and total revenue, sorted by revenue.\n",
    "        Remember that there's a different cost for guests and members!"
   ],
   "metadata": {
    "collapsed": false,
    "pycharm": {
     "name": "#%% md\n"
    }
   }
  },
  {
   "cell_type": "code",
   "execution_count": 12,
   "outputs": [
    {
     "data": {
      "text/plain": "            name  totals\n0     Pool Table     270\n1  Snooker Table     240\n2   Table Tennis     180",
      "text/html": "<div>\n<style scoped>\n    .dataframe tbody tr th:only-of-type {\n        vertical-align: middle;\n    }\n\n    .dataframe tbody tr th {\n        vertical-align: top;\n    }\n\n    .dataframe thead th {\n        text-align: right;\n    }\n</style>\n<table border=\"1\" class=\"dataframe\">\n  <thead>\n    <tr style=\"text-align: right;\">\n      <th></th>\n      <th>name</th>\n      <th>totals</th>\n    </tr>\n  </thead>\n  <tbody>\n    <tr>\n      <th>0</th>\n      <td>Pool Table</td>\n      <td>270</td>\n    </tr>\n    <tr>\n      <th>1</th>\n      <td>Snooker Table</td>\n      <td>240</td>\n    </tr>\n    <tr>\n      <th>2</th>\n      <td>Table Tennis</td>\n      <td>180</td>\n    </tr>\n  </tbody>\n</table>\n</div>"
     },
     "execution_count": 12,
     "metadata": {},
     "output_type": "execute_result"
    }
   ],
   "source": [
    "revenue_lt_1000 = cursor.execute(\n",
    "        \"WITH rev AS \"\n",
    "        \"(SELECT Facilities.name, \"\n",
    "        \"CASE WHEN Bookings.memid = 0 \"\n",
    "        \"THEN Facilities.guestcost * Bookings.slots \"\n",
    "        \"ELSE Facilities.membercost * Bookings.slots END AS revenue FROM Facilities INNER JOIN Bookings ON Facilities.facid = Bookings.facid)\"\n",
    "\n",
    "        \"SELECT rev.name AS name, SUM(revenue) AS totals FROM rev \"\n",
    "        \"GROUP By name HAVING totals < 1000\"\n",
    "        )\n",
    "\n",
    "revenue_lt_1000_df = pd.DataFrame(revenue_lt_1000, columns=['name', 'totals'])\n",
    "revenue_lt_1000_df"
   ],
   "metadata": {
    "collapsed": false,
    "pycharm": {
     "name": "#%%\n"
    }
   }
  },
  {
   "cell_type": "markdown",
   "source": [
    "Q11: Produce a report of members and who recommended them in alphabetic surname, firstname order\n",
    "\n",
    "note: The fetchall() call to a variable was due to pandas not liking the pipe characters as discovered on as opposed to the previous cell where I was able to call the df variable directly."
   ],
   "metadata": {
    "collapsed": false,
    "pycharm": {
     "name": "#%% md\n"
    }
   }
  },
  {
   "cell_type": "code",
   "execution_count": 13,
   "outputs": [
    {
     "data": {
      "text/plain": "                member_name        referred_by\n0           Joplette Janice       Smith Darren\n1            Butters Gerald       Smith Darren\n2                Dare Nancy    Joplette Janice\n3                Boothe Tim         Rownam Tim\n4           Stibbons Ponder       Tracy Burton\n5              Owen Charles       Smith Darren\n6               Jones David    Joplette Janice\n7                Baker Anne    Stibbons Ponder\n8                Smith Jack       Smith Darren\n9            Bader Florence    Stibbons Ponder\n10            Baker Timothy     Farrell Jemima\n11             Pinker David     Farrell Jemima\n12          Genting Matthew     Butters Gerald\n13           Mackenzie Anna       Smith Darren\n14              Coplin Joan      Baker Timothy\n15         Sarwin Ramnaresh     Bader Florence\n16            Jones Douglas        Jones David\n17         Rumney Henrietta    Genting Matthew\n18  Worthington-Smyth Henry        Smith Tracy\n19        Purview Millicent        Smith Tracy\n20                Hunt John  Purview Millicent\n21            Crumpet Erica        Smith Tracy",
      "text/html": "<div>\n<style scoped>\n    .dataframe tbody tr th:only-of-type {\n        vertical-align: middle;\n    }\n\n    .dataframe tbody tr th {\n        vertical-align: top;\n    }\n\n    .dataframe thead th {\n        text-align: right;\n    }\n</style>\n<table border=\"1\" class=\"dataframe\">\n  <thead>\n    <tr style=\"text-align: right;\">\n      <th></th>\n      <th>member_name</th>\n      <th>referred_by</th>\n    </tr>\n  </thead>\n  <tbody>\n    <tr>\n      <th>0</th>\n      <td>Joplette Janice</td>\n      <td>Smith Darren</td>\n    </tr>\n    <tr>\n      <th>1</th>\n      <td>Butters Gerald</td>\n      <td>Smith Darren</td>\n    </tr>\n    <tr>\n      <th>2</th>\n      <td>Dare Nancy</td>\n      <td>Joplette Janice</td>\n    </tr>\n    <tr>\n      <th>3</th>\n      <td>Boothe Tim</td>\n      <td>Rownam Tim</td>\n    </tr>\n    <tr>\n      <th>4</th>\n      <td>Stibbons Ponder</td>\n      <td>Tracy Burton</td>\n    </tr>\n    <tr>\n      <th>5</th>\n      <td>Owen Charles</td>\n      <td>Smith Darren</td>\n    </tr>\n    <tr>\n      <th>6</th>\n      <td>Jones David</td>\n      <td>Joplette Janice</td>\n    </tr>\n    <tr>\n      <th>7</th>\n      <td>Baker Anne</td>\n      <td>Stibbons Ponder</td>\n    </tr>\n    <tr>\n      <th>8</th>\n      <td>Smith Jack</td>\n      <td>Smith Darren</td>\n    </tr>\n    <tr>\n      <th>9</th>\n      <td>Bader Florence</td>\n      <td>Stibbons Ponder</td>\n    </tr>\n    <tr>\n      <th>10</th>\n      <td>Baker Timothy</td>\n      <td>Farrell Jemima</td>\n    </tr>\n    <tr>\n      <th>11</th>\n      <td>Pinker David</td>\n      <td>Farrell Jemima</td>\n    </tr>\n    <tr>\n      <th>12</th>\n      <td>Genting Matthew</td>\n      <td>Butters Gerald</td>\n    </tr>\n    <tr>\n      <th>13</th>\n      <td>Mackenzie Anna</td>\n      <td>Smith Darren</td>\n    </tr>\n    <tr>\n      <th>14</th>\n      <td>Coplin Joan</td>\n      <td>Baker Timothy</td>\n    </tr>\n    <tr>\n      <th>15</th>\n      <td>Sarwin Ramnaresh</td>\n      <td>Bader Florence</td>\n    </tr>\n    <tr>\n      <th>16</th>\n      <td>Jones Douglas</td>\n      <td>Jones David</td>\n    </tr>\n    <tr>\n      <th>17</th>\n      <td>Rumney Henrietta</td>\n      <td>Genting Matthew</td>\n    </tr>\n    <tr>\n      <th>18</th>\n      <td>Worthington-Smyth Henry</td>\n      <td>Smith Tracy</td>\n    </tr>\n    <tr>\n      <th>19</th>\n      <td>Purview Millicent</td>\n      <td>Smith Tracy</td>\n    </tr>\n    <tr>\n      <th>20</th>\n      <td>Hunt John</td>\n      <td>Purview Millicent</td>\n    </tr>\n    <tr>\n      <th>21</th>\n      <td>Crumpet Erica</td>\n      <td>Smith Tracy</td>\n    </tr>\n  </tbody>\n</table>\n</div>"
     },
     "execution_count": 13,
     "metadata": {},
     "output_type": "execute_result"
    }
   ],
   "source": [
    "referrals = cursor.execute(\"SELECT (m1.surname ||' '|| m1.firstname) AS membername, (m2.surname ||' '|| m2.firstname) AS referredby FROM Members as m1 \"\n",
    "                           \"INNER JOIN Members as m2 ON m1.recommendedby = m2.memid\")\n",
    "refer = referrals.fetchall()\n",
    "refers = pd.DataFrame(refer, columns=['member_name', 'referred_by'])\n",
    "refers"
   ],
   "metadata": {
    "collapsed": false,
    "pycharm": {
     "name": "#%%\n"
    }
   }
  },
  {
   "cell_type": "markdown",
   "source": [
    "Q12: Find the facilities with their usage by member, but not guests"
   ],
   "metadata": {
    "collapsed": false,
    "pycharm": {
     "name": "#%% md\n"
    }
   }
  },
  {
   "cell_type": "code",
   "execution_count": 14,
   "outputs": [
    {
     "data": {
      "text/plain": "          facility  usage\n0  Badminton Court    344\n1   Massage Room 1    421\n2   Massage Room 2     27\n3       Pool Table    783\n4    Snooker Table    421\n5     Squash Court    195\n6     Table Tennis    385\n7   Tennis Court 1    308\n8   Tennis Court 2    276",
      "text/html": "<div>\n<style scoped>\n    .dataframe tbody tr th:only-of-type {\n        vertical-align: middle;\n    }\n\n    .dataframe tbody tr th {\n        vertical-align: top;\n    }\n\n    .dataframe thead th {\n        text-align: right;\n    }\n</style>\n<table border=\"1\" class=\"dataframe\">\n  <thead>\n    <tr style=\"text-align: right;\">\n      <th></th>\n      <th>facility</th>\n      <th>usage</th>\n    </tr>\n  </thead>\n  <tbody>\n    <tr>\n      <th>0</th>\n      <td>Badminton Court</td>\n      <td>344</td>\n    </tr>\n    <tr>\n      <th>1</th>\n      <td>Massage Room 1</td>\n      <td>421</td>\n    </tr>\n    <tr>\n      <th>2</th>\n      <td>Massage Room 2</td>\n      <td>27</td>\n    </tr>\n    <tr>\n      <th>3</th>\n      <td>Pool Table</td>\n      <td>783</td>\n    </tr>\n    <tr>\n      <th>4</th>\n      <td>Snooker Table</td>\n      <td>421</td>\n    </tr>\n    <tr>\n      <th>5</th>\n      <td>Squash Court</td>\n      <td>195</td>\n    </tr>\n    <tr>\n      <th>6</th>\n      <td>Table Tennis</td>\n      <td>385</td>\n    </tr>\n    <tr>\n      <th>7</th>\n      <td>Tennis Court 1</td>\n      <td>308</td>\n    </tr>\n    <tr>\n      <th>8</th>\n      <td>Tennis Court 2</td>\n      <td>276</td>\n    </tr>\n  </tbody>\n</table>\n</div>"
     },
     "execution_count": 14,
     "metadata": {},
     "output_type": "execute_result"
    }
   ],
   "source": [
    "member_usage = cursor.execute(\"WITH users AS (SELECT facid, memid FROM Bookings WHERE memid != 0)\"\n",
    "                              \"SELECT Facilities.name AS fac, COUNT(users.memid) AS count FROM Facilities LEFT JOIN users ON Facilities.facid = users.facid GROUP BY facilities.name\")\n",
    "\n",
    "fetchall_members = member_usage.fetchall()\n",
    "\n",
    "facilities_df = pd.DataFrame(fetchall_members, columns=['facility', 'usage'])\n",
    "facilities_df"
   ],
   "metadata": {
    "collapsed": false,
    "pycharm": {
     "name": "#%%\n"
    }
   }
  },
  {
   "cell_type": "markdown",
   "source": [
    "Q13: Find the facilities usage by month, but not guests"
   ],
   "metadata": {
    "collapsed": false,
    "pycharm": {
     "name": "#%% md\n"
    }
   }
  },
  {
   "cell_type": "code",
   "execution_count": 15,
   "outputs": [
    {
     "data": {
      "text/plain": "   usage month\n0    480    07\n1   1168    08\n2   1512    09",
      "text/html": "<div>\n<style scoped>\n    .dataframe tbody tr th:only-of-type {\n        vertical-align: middle;\n    }\n\n    .dataframe tbody tr th {\n        vertical-align: top;\n    }\n\n    .dataframe thead th {\n        text-align: right;\n    }\n</style>\n<table border=\"1\" class=\"dataframe\">\n  <thead>\n    <tr style=\"text-align: right;\">\n      <th></th>\n      <th>usage</th>\n      <th>month</th>\n    </tr>\n  </thead>\n  <tbody>\n    <tr>\n      <th>0</th>\n      <td>480</td>\n      <td>07</td>\n    </tr>\n    <tr>\n      <th>1</th>\n      <td>1168</td>\n      <td>08</td>\n    </tr>\n    <tr>\n      <th>2</th>\n      <td>1512</td>\n      <td>09</td>\n    </tr>\n  </tbody>\n</table>\n</div>"
     },
     "execution_count": 15,
     "metadata": {},
     "output_type": "execute_result"
    }
   ],
   "source": [
    "facilities_usage = cursor.execute(\"WITH usage AS (SELECT memid, strftime('%m', starttime) as month FROM Bookings WHERE memid != 0) SELECT COUNT(usage.memid) AS cnt, usage.month FROM usage GROUP BY usage.month\")\n",
    "\n",
    "fetchall_usage = facilities_usage.fetchall()\n",
    "\n",
    "usage_df = pd.DataFrame(fetchall_usage, columns=['usage', 'month'])\n",
    "usage_df"
   ],
   "metadata": {
    "collapsed": false,
    "pycharm": {
     "name": "#%%\n"
    }
   }
  },
  {
   "cell_type": "code",
   "execution_count": 16,
   "outputs": [],
   "source": [
    "cursor.close()\n",
    "db.close()"
   ],
   "metadata": {
    "collapsed": false,
    "pycharm": {
     "name": "#%%\n"
    }
   }
  },
  {
   "cell_type": "code",
   "execution_count": 16,
   "outputs": [],
   "source": [],
   "metadata": {
    "collapsed": false,
    "pycharm": {
     "name": "#%%\n"
    }
   }
  }
 ],
 "metadata": {
  "kernelspec": {
   "display_name": "Python 3",
   "language": "python",
   "name": "python3"
  },
  "language_info": {
   "codemirror_mode": {
    "name": "ipython",
    "version": 2
   },
   "file_extension": ".py",
   "mimetype": "text/x-python",
   "name": "python",
   "nbconvert_exporter": "python",
   "pygments_lexer": "ipython2",
   "version": "2.7.6"
  }
 },
 "nbformat": 4,
 "nbformat_minor": 0
}